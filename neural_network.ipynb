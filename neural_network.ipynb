{
 "cells": [
  {
   "cell_type": "code",
   "execution_count": null,
   "metadata": {},
   "outputs": [],
   "source": [
    "import tensorflow as tf\n",
    "from tensorflow import keras\n",
    "import matplotlib.pyplot as plt\n",
    "\n",
    "(train_images,train_labels),(test_images,test_labels) = keras.datasets.fashion_mnist.load_data()\n",
    "\n",
    "# x_test.shape\n",
    "\n",
    "x_train = train_images.reshape(train_images.shape[0],28,28,1)\n",
    "x_test = test_images.reshape(test_images.shape[0],28,28,1)\n",
    "# x_test.shape\n",
    "\n",
    "\n",
    "x_train = x_train/255.0\n",
    "x_test = x_test/255.0\n",
    "\n",
    "y_train = keras.utils.to_categorical(train_labels,10)\n",
    "y_test = keras.utils.to_categorical(test_labels,10)\n",
    "\n",
    "input_shape = (28,28,1)\n",
    "\n",
    "model = keras.Sequential()\n",
    "model.add(keras.layers.Conv2D(32,kernel_size = (3,3),activation = 'relu',input_shape = input_shape))\n",
    "model.add(keras.layers.Conv2D(64,kernel_size = (3,3),activation = 'relu'))\n",
    "model.add(keras.layers.MaxPooling2D(pool_size = (2,2)))\n",
    "model.add(keras.layers.Flatten(input_shape = (28,28)))\n",
    "model.add(keras.layers.Dense(128,activation = tf.nn.relu))\n",
    "model.add(keras.layers.Dropout(0.5))\n",
    "model.add(keras.layers.Dense(10,activation = tf.nn.softmax))\n",
    "model.summary()\n",
    "\n",
    "model.compile(optimizer = 'adam',\n",
    "              loss = keras.losses.categorical_crossentropy,\n",
    "              metrics = ['accuracy'],)\n",
    "\n",
    "model.fit(x_train,y_train,\n",
    "          epochs = 3,\n",
    "          batch_size = 128,\n",
    "           verbose = 1,\n",
    "          validation_data = (x_test,y_test))\n",
    "\n",
    "score = model.evaluate(x_test,y_test,verbose=0)\n",
    "score"
   ]
  },
  {
   "cell_type": "code",
   "execution_count": null,
   "metadata": {},
   "outputs": [],
   "source": []
  },
  {
   "cell_type": "code",
   "execution_count": null,
   "metadata": {},
   "outputs": [],
   "source": []
  }
 ],
 "metadata": {
  "kernelspec": {
   "display_name": "Python 3",
   "language": "python",
   "name": "python3"
  },
  "language_info": {
   "codemirror_mode": {
    "name": "ipython",
    "version": 3
   },
   "file_extension": ".py",
   "mimetype": "text/x-python",
   "name": "python",
   "nbconvert_exporter": "python",
   "pygments_lexer": "ipython3",
   "version": "3.7.6"
  }
 },
 "nbformat": 4,
 "nbformat_minor": 4
}
